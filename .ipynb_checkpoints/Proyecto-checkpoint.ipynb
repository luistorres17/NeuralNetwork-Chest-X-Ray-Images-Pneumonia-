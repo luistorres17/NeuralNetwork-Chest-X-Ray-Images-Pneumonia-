{
 "cells": [
  {
   "cell_type": "markdown",
   "id": "73d78c40",
   "metadata": {},
   "source": [
    "**Inteligencia Artificial**"
   ]
  },
  {
   "cell_type": "markdown",
   "id": "e9643a5c",
   "metadata": {},
   "source": [
    "inteligencia artificial que predice si una persona tiene neumonia apartir de su radiografia de torax, usando una red neuronal convolucional"
   ]
  },
  {
   "cell_type": "code",
   "execution_count": 10,
   "id": "49db124a",
   "metadata": {},
   "outputs": [],
   "source": [
    "#librerias\n",
    "import numpy as np\n",
    "import os\n",
    "from PIL import Image\n",
    "import matplotlib.pyplot as plt"
   ]
  },
  {
   "cell_type": "markdown",
   "id": "c244079f",
   "metadata": {},
   "source": [
    "el primer paso es cargar el dataset de entrenamiento."
   ]
  },
  {
   "cell_type": "code",
   "execution_count": 11,
   "id": "ca42bad8",
   "metadata": {},
   "outputs": [],
   "source": [
    "path='dataset/train' #esta es la ruta donde se encuntra la base de datos de entrenamiento\n",
    "files=os.listdir(path)"
   ]
  },
  {
   "cell_type": "markdown",
   "id": "c4c91fea",
   "metadata": {},
   "source": [
    "creamos los array donde guardaremos las etiquetas y las imagenes."
   ]
  },
  {
   "cell_type": "code",
   "execution_count": 12,
   "id": "9986852c",
   "metadata": {},
   "outputs": [],
   "source": [
    "imgenes=[]\n",
    "etiquetas=[]"
   ]
  },
  {
   "cell_type": "code",
   "execution_count": 14,
   "id": "9a7a9911",
   "metadata": {},
   "outputs": [
    {
     "data": {
      "text/plain": [
       "['NORMAL', 'PNEUMONIA']"
      ]
     },
     "execution_count": 14,
     "metadata": {},
     "output_type": "execute_result"
    }
   ],
   "source": [
    "files"
   ]
  },
  {
   "cell_type": "markdown",
   "id": "4d989455",
   "metadata": {},
   "source": [
    "la base de datos de entrenamienton se compone de "
   ]
  }
 ],
 "metadata": {
  "kernelspec": {
   "display_name": "Python 3 (ipykernel)",
   "language": "python",
   "name": "python3"
  },
  "language_info": {
   "codemirror_mode": {
    "name": "ipython",
    "version": 3
   },
   "file_extension": ".py",
   "mimetype": "text/x-python",
   "name": "python",
   "nbconvert_exporter": "python",
   "pygments_lexer": "ipython3",
   "version": "3.9.7"
  }
 },
 "nbformat": 4,
 "nbformat_minor": 5
}
